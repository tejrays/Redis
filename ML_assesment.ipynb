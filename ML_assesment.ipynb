{
  "nbformat": 4,
  "nbformat_minor": 0,
  "metadata": {
    "colab": {
      "provenance": [],
      "include_colab_link": true
    },
    "kernelspec": {
      "name": "python3",
      "display_name": "Python 3"
    },
    "language_info": {
      "name": "python"
    }
  },
  "cells": [
    {
      "cell_type": "markdown",
      "metadata": {
        "id": "view-in-github",
        "colab_type": "text"
      },
      "source": [
        "<a href=\"https://colab.research.google.com/github/tejrays/Redis/blob/master/ML_assesment.ipynb\" target=\"_parent\"><img src=\"https://colab.research.google.com/assets/colab-badge.svg\" alt=\"Open In Colab\"/></a>"
      ]
    },
    {
      "cell_type": "markdown",
      "source": [
        "Q1.How many multiplications and additions do you need to perform a matrix multiplication between a (n, k) and (k, m) matrix? Explain.\n",
        "\n"
      ],
      "metadata": {
        "id": "qfVJR4kecKy3"
      }
    },
    {
      "cell_type": "markdown",
      "source": [
        "We are multiplying:\n",
        "\n",
        "$$\n",
        "A \\ (n \\times k) \\times B \\ (k \\times m) \\rightarrow C \\ (n \\times m)\n",
        "$$\n",
        "\n",
        "---\n",
        "\n",
        "**1. Size of the result**  \n",
        "The result \\( C \\) has \\( n \\) rows and \\( m \\) columns.  \n",
        "So \\( C \\) has \\( n \\times m \\) entries.\n",
        "\n",
        "---\n",
        "\n",
        "**2. Work for each entry**  \n",
        "Each element \\( C_{ij} \\) is computed as:\n",
        "\n",
        "$$\n",
        "C_{ij} = \\sum_{t=1}^k A_{it} \\cdot B_{tj}\n",
        "$$\n",
        "\n",
        "That means:\n",
        "- \\( k \\) multiplications (one for each term \\( A_{it} \\cdot B_{tj} \\))\n",
        "- \\( k - 1 \\) additions to sum them together\n",
        "\n",
        "---\n",
        "\n",
        "**3. Total work**  \n",
        "Since there are \\( n \\times m \\) entries:\n",
        "\n",
        "- **Multiplications:**\n",
        "$$\n",
        "n \\times m \\times k\n",
        "$$\n",
        "\n",
        "- **Additions:**\n",
        "$$\n",
        "n \\times m \\times (k - 1)\n",
        "$$\n",
        "\n",
        "---\n",
        "\n",
        "\n",
        "- **Multiplications:** \\( nmk \\)  \n",
        "- **Additions:** \\( nm(k - 1) \\)\n"
      ],
      "metadata": {
        "id": "dKH1C6MobT5Y"
      }
    },
    {
      "cell_type": "markdown",
      "source": [
        "Q2.Write Python code to multiply the above two matrices. Solve using list of lists and then use numpy. Compare the timing of both solutions. Which one is faster? Why?"
      ],
      "metadata": {
        "id": "gLdVS4ttcQVo"
      }
    },
    {
      "cell_type": "code",
      "source": [
        "import time\n",
        "import numpy as np\n",
        "\n",
        "# Matrix dimensions\n",
        "n, k, m = 200, 300, 150  # Larger sizes to see timing difference\n",
        "\n",
        "# Generate random matrices\n",
        "A_list = [[np.random.rand() for _ in range(k)] for _ in range(n)]\n",
        "B_list = [[np.random.rand() for _ in range(m)] for _ in range(k)]\n",
        "\n",
        "# ------------------------------\n",
        "# Method 1: Pure Python list-of-lists\n",
        "# ------------------------------\n",
        "start_time = time.time()\n",
        "\n",
        "C_list = [[0 for _ in range(m)] for _ in range(n)]\n",
        "for i in range(n):\n",
        "    for j in range(m):\n",
        "        sum_val = 0\n",
        "        for t in range(k):\n",
        "            sum_val += A_list[i][t] * B_list[t][j]\n",
        "        C_list[i][j] = sum_val\n",
        "\n",
        "list_time = time.time() - start_time\n",
        "\n",
        "# ------------------------------\n",
        "# Method 2: NumPy\n",
        "# ------------------------------\n",
        "A_np = np.array(A_list)\n",
        "B_np = np.array(B_list)\n",
        "\n",
        "start_time = time.time()\n",
        "C_np = np.dot(A_np, B_np)\n",
        "numpy_time = time.time() - start_time\n",
        "\n",
        "# ------------------------------\n",
        "# Results\n",
        "# ------------------------------\n",
        "print(f\"List-of-lists multiplication time: {list_time:.6f} seconds\")\n",
        "print(f\"NumPy multiplication time: {numpy_time:.6f} seconds\")\n",
        "\n",
        "# Verify results are close\n",
        "print(\"Results match:\", np.allclose(C_list, C_np))\n"
      ],
      "metadata": {
        "colab": {
          "base_uri": "https://localhost:8080/"
        },
        "id": "u2ElxMg2cA-W",
        "outputId": "b59bf180-5aa6-49f3-a441-f9e161588c4b"
      },
      "execution_count": null,
      "outputs": [
        {
          "output_type": "stream",
          "name": "stdout",
          "text": [
            "List-of-lists multiplication time: 2.623113 seconds\n",
            "NumPy multiplication time: 0.001487 seconds\n",
            "Results match: True\n"
          ]
        }
      ]
    },
    {
      "cell_type": "markdown",
      "source": [
        "Q3.Finding the highest element in a list requires one pass of the array. Finding the second highest element requires 2 passes of the array. Using this method, what is the time complexity of finding the median of the array? Can you suggest a better method? Can you implement both these methods in Python and compare against numpy.median routine in terms of time?"
      ],
      "metadata": {
        "id": "hg9SgSDucUng"
      }
    },
    {
      "cell_type": "code",
      "execution_count": null,
      "metadata": {
        "colab": {
          "base_uri": "https://localhost:8080/"
        },
        "id": "UcLW4YeETAze",
        "outputId": "9725685a-8170-4db3-db87-67f5d6527026"
      },
      "outputs": [
        {
          "output_type": "stream",
          "name": "stdout",
          "text": [
            "Repeated Max (O(n^2))  : 0.192505 s, median=0.5038946439920922\n",
            "Sort & Pick (O(n log n)): 0.000788 s, median=0.5040029841470495\n",
            "Heap Median (O(n log n)): 0.002636 s, median=0.5040029841470495\n",
            "NumPy median (Optimized): 0.000373 s, median=0.5040029841470495\n",
            "--------------------------------------------------\n"
          ]
        }
      ],
      "source": [
        "import heapq\n",
        "import random\n",
        "import time\n",
        "import numpy as np\n",
        "\n",
        "# -------- Method 1: Repeated Max Removal (O(n^2)) --------\n",
        "def median_repeated_max(arr):\n",
        "    data = arr.copy()\n",
        "    n = len(data)\n",
        "    target_index = n // 2\n",
        "    for _ in range(target_index):\n",
        "        max_val = max(data)\n",
        "        data.remove(max_val)\n",
        "    if n % 2 == 1:\n",
        "        return max(data)\n",
        "    else:\n",
        "        first = max(data)\n",
        "        data.remove(first)\n",
        "        second = max(data)\n",
        "        return (first + second) / 2\n",
        "\n",
        "# -------- Method 2: Sort and Pick (O(n log n)) --------\n",
        "def median_sort(arr):\n",
        "    data = sorted(arr)\n",
        "    n = len(data)\n",
        "    mid = n // 2\n",
        "    if n % 2 == 1:\n",
        "        return data[mid]\n",
        "    else:\n",
        "        return (data[mid - 1] + data[mid]) / 2\n",
        "\n",
        "# -------- Method 3: Heap-based median (O(n log n)) --------\n",
        "def median_heap(arr):\n",
        "    lower = []  # max heap (negative values)\n",
        "    upper = []  # min heap\n",
        "    for num in arr:\n",
        "        if not lower or num <= -lower[0]:\n",
        "            heapq.heappush(lower, -num)\n",
        "        else:\n",
        "            heapq.heappush(upper, num)\n",
        "\n",
        "        # Balance heaps\n",
        "        if len(lower) > len(upper) + 1:\n",
        "            heapq.heappush(upper, -heapq.heappop(lower))\n",
        "        elif len(upper) > len(lower):\n",
        "            heapq.heappush(lower, -heapq.heappop(upper))\n",
        "\n",
        "    if len(lower) > len(upper):\n",
        "        return -lower[0]\n",
        "    else:\n",
        "        return (-lower[0] + upper[0]) / 2\n",
        "\n",
        "# -------- Benchmarking Function --------\n",
        "def compare_median_methods(n=10000, seed=42):\n",
        "    random.seed(seed)\n",
        "    arr = [random.random() for _ in range(n)]\n",
        "    arr_np = np.array(arr)\n",
        "\n",
        "    # Method 1\n",
        "    t0 = time.perf_counter()\n",
        "    med1 = median_repeated_max(arr)\n",
        "    t1 = time.perf_counter()\n",
        "\n",
        "    # Method 2\n",
        "    t2 = time.perf_counter()\n",
        "    med2 = median_sort(arr)\n",
        "    t3 = time.perf_counter()\n",
        "\n",
        "    # Method 3 (heap)\n",
        "    t4 = time.perf_counter()\n",
        "    med3 = median_heap(arr)\n",
        "    t5 = time.perf_counter()\n",
        "\n",
        "    # NumPy\n",
        "    t6 = time.perf_counter()\n",
        "    med_np = np.median(arr_np)\n",
        "    t7 = time.perf_counter()\n",
        "\n",
        "    print(f\"Repeated Max (O(n^2))  : {t1 - t0:.6f} s, median={med1}\")\n",
        "    print(f\"Sort & Pick (O(n log n)): {t3 - t2:.6f} s, median={med2}\")\n",
        "    print(f\"Heap Median (O(n log n)): {t5 - t4:.6f} s, median={med3}\")\n",
        "    print(f\"NumPy median (Optimized): {t7 - t6:.6f} s, median={med_np}\")\n",
        "    print(\"-\" * 50)\n",
        "\n",
        "# Example\n",
        "compare_median_methods(5000)\n"
      ]
    },
    {
      "cell_type": "markdown",
      "source": [
        "Q4.What is the gradient of the following function with respect to x and y?"
      ],
      "metadata": {
        "id": "eCdvtCTWcZm0"
      }
    },
    {
      "cell_type": "markdown",
      "source": [
        "\n",
        "We are given the function:\n",
        "\\[ f(x, y) = x^2 y + y^3 \\sin(x) \\]\n",
        "\n",
        "{Step 1 — Partial derivative with respect to \\( x \\)}\n",
        "\\begin{align*}\n",
        "\\text{Derivative of } x^2 y \\text{ w.r.t. } x &: \\quad 2xy \\quad (\\text{since } y \\text{ is constant}) \\\\\n",
        "\\text{Derivative of } y^3 \\sin(x) \\text{ w.r.t. } x &: \\quad y^3 \\cos(x) \\\\\n",
        "\\text{Thus:} \\quad \\frac{\\partial f}{\\partial x} &= 2xy + y^3 \\cos(x)\n",
        "\\end{align*}\n",
        "\n",
        "{Step 2 — Partial derivative with respect to \\( y \\)}\n",
        "\\begin{align*}\n",
        "\\text{Derivative of } x^2 y \\text{ w.r.t. } y &: \\quad x^2 \\\\\n",
        "\\text{Derivative of } y^3 \\sin(x) \\text{ w.r.t. } y &: \\quad 3y^2 \\sin(x) \\\\\n",
        "\\text{Thus:} \\quad \\frac{\\partial f}{\\partial y} &= x^2 + 3y^2 \\sin(x)\n",
        "\\end{align*}\n",
        "\n",
        "{Step 3 — Gradient Vector}\n",
        "The gradient of \\( f \\), denoted \\( \\nabla f \\), is the vector of its partial derivatives:\n",
        "\\[\n",
        "\\nabla f(x, y) = \\begin{pmatrix}\n",
        "\\dfrac{\\partial f}{\\partial x} \\\\[8pt]\n",
        "\\dfrac{\\partial f}{\\partial y}\n",
        "\\end{pmatrix}\n",
        "= \\begin{pmatrix}\n",
        "2xy + y^3 \\cos(x) \\\\[8pt]\n",
        "x^2 + 3y^2 \\sin(x)\n",
        "\\end{pmatrix}\n",
        "\\]"
      ],
      "metadata": {
        "id": "y_OG1mYLVfgj"
      }
    },
    {
      "cell_type": "markdown",
      "source": [
        "Q5.Use JAX to confirm the gradient evaluated by your method matches the analytical solution corresponding to a few random values of x and y\n",
        "\n"
      ],
      "metadata": {
        "id": "eweyNG7Pcf6t"
      }
    },
    {
      "cell_type": "code",
      "source": [
        "import jax\n",
        "import jax.numpy as jnp\n",
        "\n",
        "# Define function\n",
        "def f(vars):\n",
        "    x, y = vars\n",
        "    return x**2 * y + 3*x*y**2\n",
        "\n",
        "# Analytical gradient function\n",
        "def analytical_grad(x, y):\n",
        "    df_dx = 2*x*y + 3*y**2\n",
        "    df_dy = x**2 + 6*x*y\n",
        "    return jnp.array([df_dx, df_dy])\n",
        "\n",
        "# JAX automatic differentiation\n",
        "grad_fn = jax.grad(f)\n",
        "\n",
        "# Test for random values of x and y\n",
        "key = jax.random.PRNGKey(0)\n",
        "for i in range(5):\n",
        "    xy = jax.random.uniform(key, shape=(2,), minval=-5.0, maxval=5.0)\n",
        "    key, _ = jax.random.split(key)\n",
        "    auto_grad = grad_fn(xy)\n",
        "    manual_grad = analytical_grad(*xy)\n",
        "    print(f\"x={xy[0]:.3f}, y={xy[1]:.3f}\")\n",
        "    print(f\"JAX grad     : {auto_grad}\")\n",
        "    print(f\"Analytical   : {manual_grad}\")\n",
        "    print(f\"Match? {jnp.allclose(auto_grad, manual_grad)}\\n\")\n"
      ],
      "metadata": {
        "colab": {
          "base_uri": "https://localhost:8080/"
        },
        "id": "0Ph2nnPRYIno",
        "outputId": "10064207-adcb-47c8-8de9-dd1267961f6b"
      },
      "execution_count": null,
      "outputs": [
        {
          "output_type": "stream",
          "name": "stdout",
          "text": [
            "x=4.477, y=4.786\n",
            "JAX grad     : [111.5605  148.58723]\n",
            "Analytical   : [111.5605  148.58723]\n",
            "Match? True\n",
            "\n",
            "x=3.423, y=-3.176\n",
            "JAX grad     : [  8.519741 -53.517868]\n",
            "Analytical   : [  8.519741 -53.517868]\n",
            "Match? True\n",
            "\n",
            "x=-2.173, y=2.881\n",
            "JAX grad     : [ 12.380453 -32.83761 ]\n",
            "Analytical   : [ 12.380453 -32.83761 ]\n",
            "Match? True\n",
            "\n",
            "x=-4.283, y=-1.375\n",
            "JAX grad     : [17.445347 53.665764]\n",
            "Analytical   : [17.445347 53.665764]\n",
            "Match? True\n",
            "\n",
            "x=-4.414, y=-2.824\n",
            "JAX grad     : [48.860203 94.27487 ]\n",
            "Analytical   : [48.860203 94.27487 ]\n",
            "Match? True\n",
            "\n"
          ]
        }
      ]
    },
    {
      "cell_type": "markdown",
      "source": [
        "Q6.Use sympy to confirm that you obtain the same gradient analytically."
      ],
      "metadata": {
        "id": "PCS3jnizckwv"
      }
    },
    {
      "cell_type": "code",
      "source": [
        "import sympy as sp\n",
        "\n",
        "# Define the variables\n",
        "x, y = sp.symbols('x y', real=True)\n",
        "\n",
        "# Example function (replace with yours)\n",
        "f = x**2 * sp.sin(y) + sp.exp(x*y)\n",
        "\n",
        "# Compute symbolic gradient\n",
        "grad_x = sp.diff(f, x)\n",
        "grad_y = sp.diff(f, y)\n",
        "\n",
        "# Display analytical gradient\n",
        "print(\"Analytical Gradient:\")\n",
        "print(\"∂f/∂x =\", grad_x)\n",
        "print(\"∂f/∂y =\", grad_y)\n",
        "\n",
        "# Convert to callable functions\n",
        "grad_x_func = sp.lambdify((x, y), grad_x, \"numpy\")\n",
        "grad_y_func = sp.lambdify((x, y), grad_y, \"numpy\")\n",
        "\n",
        "# Test with some random values\n",
        "import numpy as np\n",
        "\n",
        "for _ in range(3):\n",
        "    xv, yv = np.random.randn(), np.random.randn()\n",
        "    print(f\"\\nAt x={xv:.3f}, y={yv:.3f}:\")\n",
        "    print(\"∂f/∂x =\", grad_x_func(xv, yv))\n",
        "    print(\"∂f/∂y =\", grad_y_func(xv, yv))\n"
      ],
      "metadata": {
        "colab": {
          "base_uri": "https://localhost:8080/"
        },
        "id": "K8MKyw4OYLEx",
        "outputId": "6c8a8dc2-55c5-40c7-f2d9-e93917e60857"
      },
      "execution_count": null,
      "outputs": [
        {
          "output_type": "stream",
          "name": "stdout",
          "text": [
            "Analytical Gradient:\n",
            "∂f/∂x = 2*x*sin(y) + y*exp(x*y)\n",
            "∂f/∂y = x**2*cos(y) + x*exp(x*y)\n",
            "\n",
            "At x=0.579, y=0.584:\n",
            "∂f/∂x = 1.4577555027460272\n",
            "∂f/∂y = 1.0905768642188138\n",
            "\n",
            "At x=0.928, y=2.045:\n",
            "∂f/∂x = 15.278138066064994\n",
            "∂f/∂y = 5.788641025839559\n",
            "\n",
            "At x=-0.161, y=-0.027:\n",
            "∂f/∂x = -0.018569384111945655\n",
            "∂f/∂y = -0.1357334084456076\n"
          ]
        }
      ]
    },
    {
      "cell_type": "markdown",
      "source": [
        "Q7.Create a Python nested dictionary to represent hierarchical information. We want to store record of students and their marks. Something like:"
      ],
      "metadata": {
        "id": "agzSp9kccryd"
      }
    },
    {
      "cell_type": "code",
      "source": [
        "# Nested dictionary for storing student records\n",
        "student_records = {\n",
        "    2022: {\n",
        "        \"Branch 1\": [\n",
        "            {\n",
        "                \"Roll Number\": 1,\n",
        "                \"Name\": \"N\",\n",
        "                \"Marks\": {\n",
        "                    \"Maths\": 100,\n",
        "                    \"English\": 70,\n",
        "                    \"Science\": 85\n",
        "                }\n",
        "            },\n",
        "            {\n",
        "                \"Roll Number\": 2,\n",
        "                \"Name\": \"M\",\n",
        "                \"Marks\": {\n",
        "                    \"Maths\": 95,\n",
        "                    \"English\": 88,\n",
        "                    \"Science\": 90\n",
        "                }\n",
        "            }\n",
        "        ],\n",
        "        \"Branch 2\": []\n",
        "    },\n",
        "    2023: {\n",
        "        \"Branch 1\": [],\n",
        "        \"Branch 2\": []\n",
        "    },\n",
        "    2024: {\n",
        "        \"Branch 1\": [],\n",
        "        \"Branch 2\": []\n",
        "    },\n",
        "    2025: {\n",
        "        \"Branch 1\": [],\n",
        "        \"Branch 2\": []\n",
        "    }\n",
        "}\n",
        "\n",
        "\n"
      ],
      "metadata": {
        "id": "H3VRDXn_YWvF"
      },
      "execution_count": null,
      "outputs": []
    },
    {
      "cell_type": "markdown",
      "source": [
        "Q8.Store the same information using Python classes. We have an overall database which is a list of year objects. Each year contains a list of branches. Each branch contains a list of students. Each student has some properties like name, roll number and has marks in some subjects."
      ],
      "metadata": {
        "id": "0n8i2nVMcz0D"
      }
    },
    {
      "cell_type": "code",
      "source": [
        "class Student:\n",
        "    def __init__(self, name, roll_number, marks):\n",
        "        self.name = name\n",
        "        self.roll_number = roll_number\n",
        "        self.marks = marks  # dictionary: {subject: marks}\n",
        "\n",
        "\n",
        "class Branch:\n",
        "    def __init__(self, branch_name, students):\n",
        "        self.branch_name = branch_name\n",
        "        self.students = students  # list of Student objects\n",
        "\n",
        "\n",
        "class Year:\n",
        "    def __init__(self, year, branches):\n",
        "        self.year = year\n",
        "        self.branches = branches  # list of Branch objects"
      ],
      "metadata": {
        "id": "nmS53cl-ZE02"
      },
      "execution_count": null,
      "outputs": []
    },
    {
      "cell_type": "markdown",
      "source": [
        "Q9.Using matplotlib plot the following functions on the domain: x = 0.5 to 100.0 in steps of 0.5"
      ],
      "metadata": {
        "id": "83M0CAKXc3Hn"
      }
    },
    {
      "cell_type": "code",
      "source": [
        "import numpy as np\n",
        "import matplotlib.pyplot as plt\n",
        "\n",
        "# Domain\n",
        "x = np.arange(0.5, 100.5, 0.5)\n",
        "\n",
        "# Functions\n",
        "y1 = x\n",
        "y2 = x**2\n",
        "y3 = x**3 / 100\n",
        "y4 = np.sin(x)\n",
        "y5 = np.sin(x) / x\n",
        "y6 = np.log(x)\n",
        "y7 = np.exp(x)  # Will grow extremely large\n",
        "\n",
        "# Plotting\n",
        "plt.figure(figsize=(12, 8))\n",
        "\n",
        "plt.subplot(3, 3, 1)\n",
        "plt.plot(x, y1)\n",
        "plt.title(\"y = x\")\n",
        "\n",
        "plt.subplot(3, 3, 2)\n",
        "plt.plot(x, y2)\n",
        "plt.title(\"y = x^2\")\n",
        "\n",
        "plt.subplot(3, 3, 3)\n",
        "plt.plot(x, y3)\n",
        "plt.title(\"y = x^3 / 100\")\n",
        "\n",
        "plt.subplot(3, 3, 4)\n",
        "plt.plot(x, y4)\n",
        "plt.title(\"y = sin(x)\")\n",
        "\n",
        "plt.subplot(3, 3, 5)\n",
        "plt.plot(x, y5)\n",
        "plt.title(\"y = sin(x)/x\")\n",
        "\n",
        "plt.subplot(3, 3, 6)\n",
        "plt.plot(x, y6)\n",
        "plt.title(\"y = log(x)\")\n",
        "\n",
        "plt.subplot(3, 3, 7)\n",
        "plt.plot(x, y7)\n",
        "plt.title(\"y = e^x\")\n",
        "plt.ylim(0, 1000)  # Limit y to avoid overflow\n",
        "\n",
        "plt.tight_layout()\n",
        "plt.show()\n"
      ],
      "metadata": {
        "colab": {
          "base_uri": "https://localhost:8080/",
          "height": 807
        },
        "id": "KM9qLgS5ZcDX",
        "outputId": "a725564a-f841-40f9-ba28-5475c880b1cb"
      },
      "execution_count": null,
      "outputs": [
        {
          "output_type": "display_data",
          "data": {
            "text/plain": [
              "<Figure size 1200x800 with 7 Axes>"
            ],
            "image/png": "[encoded data removed]"
          },
          "metadata": {}
        }
      ]
    },
    {
      "cell_type": "markdown",
      "source": [
        "Q10.Using numpy generate a matrix of size 20X5 containing random numbers drawn uniformly from the range of 1 to 2. Using Pandas create a dataframe out of this matrix. Name the columns of the dataframe as “a”, “b”, “c”, “d”, “e”. Find the column with the highest standard deviation. Find the row with the lowest mean.\n",
        "\n"
      ],
      "metadata": {
        "id": "hQWhFIFPc63t"
      }
    },
    {
      "cell_type": "code",
      "source": [
        "import numpy as np\n",
        "import pandas as pd\n",
        "\n",
        "# Step 1: Generate 20x5 matrix with uniform random numbers from 1 to 2\n",
        "matrix = np.random.uniform(1, 2, size=(20, 5))\n",
        "\n",
        "# Step 2: Create a DataFrame\n",
        "df = pd.DataFrame(matrix, columns=[\"a\", \"b\", \"c\", \"d\", \"e\"])\n",
        "\n",
        "# Step 3: Find column with highest standard deviation\n",
        "col_with_max_std = df.std().idxmax()\n",
        "\n",
        "# Step 4: Find row with lowest mean\n",
        "row_with_min_mean = df.mean(axis=1).idxmin()\n",
        "\n",
        "# Output results\n",
        "print(\"DataFrame:\")\n",
        "print(df)\n",
        "print(\"\\nColumn with highest standard deviation:\", col_with_max_std)\n",
        "print(\"Row index with lowest mean:\", row_with_min_mean)\n"
      ],
      "metadata": {
        "colab": {
          "base_uri": "https://localhost:8080/"
        },
        "id": "JkNyvWgkZ5sv",
        "outputId": "c31cd114-4b4b-4f2d-e799-56bead893f0c"
      },
      "execution_count": null,
      "outputs": [
        {
          "output_type": "stream",
          "name": "stdout",
          "text": [
            "DataFrame:\n",
            "           a         b         c         d         e\n",
            "0   1.650172  1.549202  1.754676  1.550333  1.216931\n",
            "1   1.507194  1.123043  1.908536  1.387656  1.469116\n",
            "2   1.196880  1.972685  1.979368  1.567548  1.028573\n",
            "3   1.475094  1.855111  1.362040  1.929970  1.641097\n",
            "4   1.883766  1.424658  1.812773  1.662374  1.292640\n",
            "5   1.100775  1.079047  1.743971  1.554005  1.357602\n",
            "6   1.032138  1.465606  1.824650  1.169938  1.636822\n",
            "7   1.754643  1.707270  1.070833  1.777394  1.139178\n",
            "8   1.721543  1.418510  1.824259  1.750745  1.859245\n",
            "9   1.868155  1.807464  1.869146  1.525671  1.193335\n",
            "10  1.107294  1.803250  1.398598  1.362163  1.346647\n",
            "11  1.992250  1.870381  1.973292  1.315757  1.174773\n",
            "12  1.354603  1.644528  1.709456  1.631574  1.697260\n",
            "13  1.583818  1.190718  1.013924  1.886840  1.533160\n",
            "14  1.771138  1.809067  1.760703  1.313418  1.315433\n",
            "15  1.740076  1.174274  1.064654  1.234200  1.391703\n",
            "16  1.803765  1.928742  1.038758  1.671464  1.024615\n",
            "17  1.210288  1.827919  1.956415  1.562765  1.634544\n",
            "18  1.069326  1.160838  1.638891  1.946982  1.343513\n",
            "19  1.864736  1.274757  1.033095  1.035368  1.032689\n",
            "\n",
            "Column with highest standard deviation: c\n",
            "Row index with lowest mean: 19\n"
          ]
        }
      ]
    },
    {
      "cell_type": "markdown",
      "source": [
        "Q11.Add a new column to the dataframe called “f” which is the sum of the columns “a”, “b”, “c”, “d”, “e”. Create another column called “g”. The value in the column “g” should be “LT8” if the value in the column “f” is less than 8 and “GT8” otherwise. Find the number of rows in the dataframe where the value in the column “g” is “LT8”. Find the standard deviation of the column “f” for the rows where the value in the column “g” is “LT8” and “GT8” respectively."
      ],
      "metadata": {
        "id": "irlkB8hZdQnq"
      }
    },
    {
      "cell_type": "code",
      "source": [
        "import numpy as np\n",
        "import pandas as pd\n",
        "\n",
        "# Step 1: Generate 20x5 matrix with uniform random numbers from 1 to 2\n",
        "matrix = np.random.uniform(1, 2, size=(20, 5))\n",
        "\n",
        "# Step 2: Create a DataFrame\n",
        "df = pd.DataFrame(matrix, columns=[\"a\", \"b\", \"c\", \"d\", \"e\"])\n",
        "\n",
        "# Step 3: Find column with highest standard deviation\n",
        "col_with_max_std = df.std().idxmax()\n",
        "\n",
        "# Step 4: Find row with lowest mean\n",
        "row_with_min_mean = df.mean(axis=1).idxmin()\n",
        "\n",
        "# Step 5: Add new column 'f' = sum of a, b, c, d, e\n",
        "df[\"f\"] = df[[\"a\", \"b\", \"c\", \"d\", \"e\"]].sum(axis=1)\n",
        "\n",
        "# Step 6: Add column 'g' based on condition\n",
        "df[\"g\"] = np.where(df[\"f\"] < 8, \"LT8\", \"GT8\")\n",
        "\n",
        "# Step 7: Find number of rows where g = \"LT8\"\n",
        "lt8_count = (df[\"g\"] == \"LT8\").sum()\n",
        "\n",
        "# Step 8: Find std deviation of 'f' for LT8 and GT8 separately\n",
        "std_lt8 = df.loc[df[\"g\"] == \"LT8\", \"f\"].std()\n",
        "std_gt8 = df.loc[df[\"g\"] == \"GT8\", \"f\"].std()\n",
        "\n",
        "# Output\n",
        "print(\"DataFrame:\")\n",
        "print(df)\n",
        "print(\"\\nColumn with highest standard deviation:\", col_with_max_std)\n",
        "print(\"Row index with lowest mean:\", row_with_min_mean)\n",
        "print(\"\\nNumber of rows where g = 'LT8':\", lt8_count)\n",
        "print(\"Std deviation of 'f' for LT8:\", std_lt8)\n",
        "print(\"Std deviation of 'f' for GT8:\", std_gt8)\n"
      ],
      "metadata": {
        "colab": {
          "base_uri": "https://localhost:8080/"
        },
        "id": "pkryNNmdaPpZ",
        "outputId": "02c07788-d522-477d-e6b4-d14fb4f8fcae"
      },
      "execution_count": null,
      "outputs": [
        {
          "output_type": "stream",
          "name": "stdout",
          "text": [
            "DataFrame:\n",
            "           a         b         c         d         e         f    g\n",
            "0   1.763289  1.950005  1.088093  1.579505  1.407810  7.788703  LT8\n",
            "1   1.836269  1.387090  1.633408  1.769054  1.580241  8.206062  GT8\n",
            "2   1.587594  1.790404  1.277333  1.977497  1.912731  8.545560  GT8\n",
            "3   1.603699  1.818995  1.453412  1.535531  1.359099  7.770736  LT8\n",
            "4   1.068359  1.289869  1.764571  1.977472  1.422580  7.522852  LT8\n",
            "5   1.308252  1.899489  1.214297  1.797941  1.404933  7.624912  LT8\n",
            "6   1.699720  1.732890  1.232484  1.003467  1.079973  6.748534  LT8\n",
            "7   1.836468  1.698390  1.365836  1.876585  1.277159  8.054438  GT8\n",
            "8   1.216748  1.103973  1.173868  1.475313  1.393394  6.363297  LT8\n",
            "9   1.543093  1.320330  1.757009  1.054070  1.635505  7.310006  LT8\n",
            "10  1.434505  1.890331  1.002525  1.707830  1.004118  7.039309  LT8\n",
            "11  1.303038  1.948991  1.962476  1.298277  1.943909  8.456692  GT8\n",
            "12  1.670008  1.114013  1.284188  1.290482  1.870609  7.229299  LT8\n",
            "13  1.910502  1.680863  1.475020  1.936502  1.809991  8.812878  GT8\n",
            "14  1.319061  1.259385  1.010902  1.927853  1.134778  6.651978  LT8\n",
            "15  1.219907  1.013314  1.152904  1.638676  1.919756  6.944557  LT8\n",
            "16  1.337042  1.519732  1.321320  1.218731  1.995242  7.392067  LT8\n",
            "17  1.242915  1.132038  1.283404  1.624360  1.529053  6.811770  LT8\n",
            "18  1.644056  1.277242  1.826930  1.940927  1.294021  7.983175  LT8\n",
            "19  1.656776  1.188939  1.919373  1.069705  1.566697  7.401490  LT8\n",
            "\n",
            "Column with highest standard deviation: d\n",
            "Row index with lowest mean: 8\n",
            "\n",
            "Number of rows where g = 'LT8': 15\n",
            "Std deviation of 'f' for LT8: 0.4693678406161939\n",
            "Std deviation of 'f' for GT8: 0.2961211058036591\n"
          ]
        }
      ]
    },
    {
      "cell_type": "markdown",
      "source": [
        "Q12.Write a small piece of code to explain broadcasting in numpy."
      ],
      "metadata": {
        "id": "IwqQXGN2dTsV"
      }
    },
    {
      "cell_type": "code",
      "source": [
        "import numpy as np\n",
        "\n",
        "# A 3x3 matrix\n",
        "A = np.array([[1, 2, 3],\n",
        "              [4, 5, 6],\n",
        "              [7, 8, 9]])\n",
        "\n",
        "# A 1D array (length 3)\n",
        "b = np.array([10, 20, 30])\n",
        "\n",
        "# Broadcasting: b is added to each row of A\n",
        "C = A + b\n",
        "\n",
        "print(\"Matrix A:\")\n",
        "print(A)\n",
        "print(\"\\nArray b:\")\n",
        "print(b)\n",
        "print(\"\\nResult after broadcasting (A + b):\")\n",
        "print(C)\n",
        "print(\"NumPy broadcasting allows operations between arrays of different shapes without manually repeating data.\")"
      ],
      "metadata": {
        "colab": {
          "base_uri": "https://localhost:8080/"
        },
        "id": "8PsEQCKsaeMe",
        "outputId": "f023fa04-bca6-4fe6-8616-71454bc6e8d7"
      },
      "execution_count": null,
      "outputs": [
        {
          "output_type": "stream",
          "name": "stdout",
          "text": [
            "Matrix A:\n",
            "[[1 2 3]\n",
            " [4 5 6]\n",
            " [7 8 9]]\n",
            "\n",
            "Array b:\n",
            "[10 20 30]\n",
            "\n",
            "Result after broadcasting (A + b):\n",
            "[[11 22 33]\n",
            " [14 25 36]\n",
            " [17 28 39]]\n",
            "NumPy broadcasting allows operations between arrays of different shapes without manually repeating data.\n"
          ]
        }
      ]
    },
    {
      "cell_type": "markdown",
      "source": [
        "Q13.Write a function to compute the argmin of a numpy array. The function should take a numpy array as input and return the index of the minimum element. You can use the np.argmin function to verify your solution."
      ],
      "metadata": {
        "id": "JYHvPPaPdYdp"
      }
    },
    {
      "cell_type": "code",
      "source": [
        "import numpy as np\n",
        "\n",
        "def my_argmin(arr):\n",
        "    min_index = 0\n",
        "    min_value = arr[0]\n",
        "    for i in range(1, len(arr)):\n",
        "        if arr[i] < min_value:\n",
        "            min_value = arr[i]\n",
        "            min_index = i\n",
        "    return min_index\n",
        "\n",
        "# Example usage\n",
        "arr = np.array([233,5,5,11,5,2,123,5])\n",
        "\n",
        "# Our function result\n",
        "custom_result = my_argmin(arr)\n",
        "\n",
        "# NumPy's built-in result\n",
        "numpy_result = np.argmin(arr)\n",
        "\n",
        "print(\"Array:\", arr)\n",
        "print(\"Custom argmin index:\", custom_result)\n",
        "print(\"NumPy argmin index:\", numpy_result)\n"
      ],
      "metadata": {
        "colab": {
          "base_uri": "https://localhost:8080/"
        },
        "id": "S5Un9rZBal_A",
        "outputId": "f6cb755c-d2b1-4722-eac3-6298d0f0b196"
      },
      "execution_count": null,
      "outputs": [
        {
          "output_type": "stream",
          "name": "stdout",
          "text": [
            "Array: [233   5   5  11   5   2 123   5]\n",
            "Custom argmin index: 5\n",
            "NumPy argmin index: 5\n"
          ]
        }
      ]
    },
    {
      "cell_type": "markdown",
      "source": [],
      "metadata": {
        "id": "QnWAdxNeajkj"
      }
    }
  ]
}